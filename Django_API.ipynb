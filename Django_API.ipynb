{
 "cells": [
  {
   "attachments": {},
   "cell_type": "markdown",
   "metadata": {},
   "source": [
    "# API Django\n",
    "\n",
    "---\n",
    "---"
   ]
  },
  {
   "attachments": {},
   "cell_type": "markdown",
   "metadata": {},
   "source": [
    "## Installation Django"
   ]
  },
  {
   "attachments": {},
   "cell_type": "markdown",
   "metadata": {},
   "source": [
    "### Pip"
   ]
  },
  {
   "cell_type": "code",
   "execution_count": null,
   "metadata": {},
   "outputs": [],
   "source": [
    "!pip install django"
   ]
  },
  {
   "attachments": {},
   "cell_type": "markdown",
   "metadata": {},
   "source": [
    "---\n",
    "\n",
    "### Conda"
   ]
  },
  {
   "cell_type": "code",
   "execution_count": null,
   "metadata": {},
   "outputs": [],
   "source": [
    "!conda install -c anaconda django"
   ]
  },
  {
   "attachments": {},
   "cell_type": "markdown",
   "metadata": {},
   "source": [
    "---\n",
    "---\n",
    "\n",
    "## + Installation Pillow (PIL)"
   ]
  },
  {
   "attachments": {},
   "cell_type": "markdown",
   "metadata": {},
   "source": [
    "### Pip"
   ]
  },
  {
   "cell_type": "code",
   "execution_count": null,
   "metadata": {},
   "outputs": [],
   "source": [
    "!pip install Pillow"
   ]
  },
  {
   "attachments": {},
   "cell_type": "markdown",
   "metadata": {},
   "source": [
    "---\n",
    "### Conda"
   ]
  },
  {
   "cell_type": "code",
   "execution_count": null,
   "metadata": {},
   "outputs": [],
   "source": [
    "!conda install -c anaconda pillow"
   ]
  },
  {
   "attachments": {},
   "cell_type": "markdown",
   "metadata": {},
   "source": [
    "---\n",
    "---\n",
    "\n",
    "## Setup des fichiers server"
   ]
  },
  {
   "attachments": {},
   "cell_type": "markdown",
   "metadata": {},
   "source": [
    "### Se placer au bon endroit"
   ]
  },
  {
   "cell_type": "code",
   "execution_count": null,
   "metadata": {},
   "outputs": [],
   "source": [
    "import os\n",
    "\n",
    "os.chdir(globals()['_dh'][0]) # On se place là où le notebook se trouve\n",
    "print(os.getcwd())"
   ]
  },
  {
   "attachments": {},
   "cell_type": "markdown",
   "metadata": {},
   "source": [
    "### Création du site web de base\n",
    "\n",
    "Cette commande crée les fichiers nécessaires pour générer un server local"
   ]
  },
  {
   "cell_type": "code",
   "execution_count": null,
   "metadata": {},
   "outputs": [],
   "source": [
    "!python -m django startproject serveur"
   ]
  },
  {
   "attachments": {},
   "cell_type": "markdown",
   "metadata": {},
   "source": [
    "---\n",
    "\n",
    "### Création de l'API\n",
    "\n",
    "Cette commande crée les fichiers nécessaires pour générer une application (API)"
   ]
  },
  {
   "cell_type": "code",
   "execution_count": null,
   "metadata": {},
   "outputs": [],
   "source": [
    "!cd serveur && python manage.py startapp Testapi"
   ]
  },
  {
   "attachments": {},
   "cell_type": "markdown",
   "metadata": {},
   "source": [
    "---\n",
    "\n",
    "### Ajout de l'API au server\n",
    "\n",
    "Il faut 'dire' au server qu'une app a été créée. </br>\n",
    "On ouvre le fichier serveur/serveur/settings.py, on trouve la liste 'INSTALLED_APPS et on ajoute la ligne suivante :\n",
    "\n",
    "```\n",
    "\"Testapi.apps.TestapiConfig\",\n",
    "```"
   ]
  },
  {
   "attachments": {},
   "cell_type": "markdown",
   "metadata": {},
   "source": [
    "---\n",
    "\n",
    "### Ajout des futurs paths de l'API à la Base\n",
    "\n",
    "Le serveur doit inclure les endpoints de l'app. </br>\n",
    "On ouvre le fichier serveur/serveur/urls.py et on ajoute la ligne suivante à la liste des urls (+ from django.urls import include):\n",
    "\n",
    "```\n",
    "path('', include('Testapi.urls')),\n",
    "```"
   ]
  },
  {
   "attachments": {},
   "cell_type": "markdown",
   "metadata": {},
   "source": [
    "---\n",
    "---\n",
    "\n",
    "## Démarage du serveur"
   ]
  },
  {
   "cell_type": "code",
   "execution_count": null,
   "metadata": {},
   "outputs": [],
   "source": [
    "!python serveur/manage.py runserver"
   ]
  },
  {
   "attachments": {},
   "cell_type": "markdown",
   "metadata": {},
   "source": [
    "On peut maintenant accéder à l'API via:\n",
    "\n",
    "`localhost:8000`\n",
    "\n",
    "OU\n",
    "\n",
    "`127.0.0.1:8000`"
   ]
  },
  {
   "attachments": {},
   "cell_type": "markdown",
   "metadata": {},
   "source": [
    "---\n",
    "---\n",
    "\n",
    "## /val \n",
    "- Retourne une valeurs entière aléatoire comprise entre 0 et 100"
   ]
  },
  {
   "attachments": {},
   "cell_type": "markdown",
   "metadata": {},
   "source": [
    "### Ajout de la fonction\n",
    "\n",
    "On ouvre le fichier serveur/Testapi/views.py et on ajoute le code suivant :"
   ]
  },
  {
   "cell_type": "code",
   "execution_count": null,
   "metadata": {},
   "outputs": [],
   "source": [
    "from django.http import JsonResponse, HttpResponse\n",
    "import random, io, urllib.request, json # io, urllib et json pour la suite\n",
    "from PIL import Image # Pour la suite\n",
    "\n",
    "def random_gen(request):\n",
    "    return HttpResponse(random.randint(0, 101))"
   ]
  },
  {
   "attachments": {},
   "cell_type": "markdown",
   "metadata": {},
   "source": [
    "---\n",
    "\n",
    "### Ajout du endpoint URL\n",
    "\n",
    "On crée un fichier 'urls.py' dans 'serveur/Testapi' et on ajoute le code suivant :"
   ]
  },
  {
   "cell_type": "code",
   "execution_count": null,
   "metadata": {},
   "outputs": [],
   "source": [
    "from django.urls import path\n",
    "from . import views\n",
    "\n",
    "urlpatterns = [\n",
    "    path('val', views.random_gen, name='Random generator'),\n",
    "]"
   ]
  },
  {
   "attachments": {},
   "cell_type": "markdown",
   "metadata": {},
   "source": [
    "---\n",
    "\n",
    "### Résultat\n",
    "\n",
    "![image](./Images/01.jpg)"
   ]
  },
  {
   "attachments": {},
   "cell_type": "markdown",
   "metadata": {},
   "source": [
    "---\n",
    "---\n",
    "\n",
    "## /val?nb=n \n",
    "- Retourne du code json contenant un tableau de n valeurs entières aléatoires comprises en -1000 et +1000 (où n est un nombre entier positif)"
   ]
  },
  {
   "attachments": {},
   "cell_type": "markdown",
   "metadata": {},
   "source": [
    "### Modification de la fonction\n",
    "\n",
    "On ouvre le fichier serveur/Testapi/views.py et on modifie la fonction existante :"
   ]
  },
  {
   "cell_type": "code",
   "execution_count": null,
   "metadata": {},
   "outputs": [],
   "source": [
    "def random_gen(request):\n",
    "\n",
    "    values = request.GET # Récupération de la requête\n",
    "\n",
    "    if 'nb' in values.keys(): # On vérifie que 'nb' est donné\n",
    "\n",
    "        if values['nb'].isnumeric(): # On vérifie que 'nb' est un entier\n",
    "\n",
    "            nb = int (values['nb'])\n",
    "            data = {'result' : random.sample(range(-1000,1001), nb)} # on renvoie un JSON contenant une liste de n nombres aléatoire\n",
    "            return JsonResponse(data)\n",
    "            \n",
    "        else: # Si 'nb' n'est pas un entier, on renvoie un message d'erreur\n",
    "            return HttpResponse(\"Mauvaise requête\")\n",
    "    \n",
    "    else: # Si 'nb' n'est pas fournit, on renvoie juste un nombre aléatoire seul\n",
    "        return HttpResponse(random.randint(0, 100))"
   ]
  },
  {
   "attachments": {},
   "cell_type": "markdown",
   "metadata": {},
   "source": [
    "Le endpoint val existe déjà, on a juste à traiter la valeur donnée en plus"
   ]
  },
  {
   "attachments": {},
   "cell_type": "markdown",
   "metadata": {},
   "source": [
    "---\n",
    "### Résultat\n",
    "\n",
    "`nb=20`\n",
    "\n",
    "![Image](./Images/02.jpg)\n",
    "\n",
    "`nb=1.2`\n",
    "\n",
    "![Image](./Images/03.jpg)\n",
    "\n",
    "`nb=abc`\n",
    "\n",
    "![Image](./Images/04.jpg)"
   ]
  },
  {
   "attachments": {},
   "cell_type": "markdown",
   "metadata": {},
   "source": [
    "---\n",
    "---\n",
    "\n",
    "## /calc/add?n1=n&n2=m \n",
    "- Retourne un simple texte contenant le résultat de l’addition de n et m (où n et m sont des nombres entiers positifs)"
   ]
  },
  {
   "attachments": {},
   "cell_type": "markdown",
   "metadata": {},
   "source": [
    "### Ajout de la fonction\n",
    "\n",
    "On ouvre le fichier serveur/Testapi/views.py et on ajoute la fonction suivante :"
   ]
  },
  {
   "cell_type": "code",
   "execution_count": null,
   "metadata": {},
   "outputs": [],
   "source": [
    "def somme(request):\n",
    "\n",
    "    values = request.GET # Récupération de la requête\n",
    "\n",
    "    if 'n1' in values.keys() and 'n2' in values.keys(): # On vérifie que les 2 nombres sont données\n",
    "    \n",
    "        if values['n1'].isnumeric() and values['n2'].isnumeric(): # On vérifie que les 2 nombres donnés sont des entiers\n",
    "            n1 = int (values['n1'])\n",
    "            n2 = int (values['n2'])\n",
    "            return HttpResponse(n1+n2)  # On renvoie n1 + n2\n",
    "\n",
    "        else: # Si n1 ou n2 ne sont pas des entiers, on indique que la requête est fausse\n",
    "            return HttpResponse(\"Mauvaise Requête\")\n",
    "\n",
    "    else: # Si n1 et n2 ne sont pas donnés, on indique que la requête est fausse\n",
    "        return HttpResponse(\"Mauvaise Requête\")"
   ]
  },
  {
   "attachments": {},
   "cell_type": "markdown",
   "metadata": {},
   "source": [
    "---\n",
    "\n",
    "### Ajout du endpoint URL\n",
    "\n",
    "On ouvre le fichier 'serveur/Testapi/urls.py' et on ajoute la ligne suivante à la liste 'urlpatterns' :"
   ]
  },
  {
   "cell_type": "code",
   "execution_count": null,
   "metadata": {},
   "outputs": [],
   "source": [
    "path('calc/add', views.somme, name='calculs'),"
   ]
  },
  {
   "attachments": {},
   "cell_type": "markdown",
   "metadata": {},
   "source": [
    "---\n",
    "### Résultat\n",
    "\n",
    "`n1=42 et n2=42`\n",
    "\n",
    "![Image](./Images/05.jpg)\n",
    "\n",
    "`n1 = a & n1 = b`\n",
    "\n",
    "![Image](./Images/06.jpg)\n",
    "\n",
    "`pas de n1 ni n2`\n",
    "\n",
    "![Image](./Images/07.jpg)"
   ]
  },
  {
   "attachments": {},
   "cell_type": "markdown",
   "metadata": {},
   "source": [
    "---\n",
    "---\n",
    "\n",
    "## /calc/prod?n1=n&n2=m \n",
    "- Retourne un code HTML mis en forme qui présente dans un navigateur le calcul du produit de n et m sous la forme 4 x 5 = 20 (où n et m sont des nombres entiers positifs)"
   ]
  },
  {
   "attachments": {},
   "cell_type": "markdown",
   "metadata": {},
   "source": [
    "### Ajout de la fonction\n",
    "\n",
    "On ouvre le fichier serveur/Testapi/views.py et on ajoute la fonction suivante :"
   ]
  },
  {
   "cell_type": "code",
   "execution_count": null,
   "metadata": {},
   "outputs": [],
   "source": [
    "def produit(request):\n",
    "\n",
    "    values = request.GET # Récupération de la requête\n",
    "\n",
    "    if 'n1' in values.keys() and 'n2' in values.keys(): # On vérifie que n1 et n2 sont donnés\n",
    "        if values['n1'].isnumeric() and values['n2'].isnumeric(): # On vérifie que n1 et n2 sont des entiers\n",
    "            n1 = int (values['n1']) \n",
    "            n2 = int (values['n2'])\n",
    "            return HttpResponse(f\"{n1} x {n2} = {n1*n2}\") # On renvoit n1 & n2\n",
    "        \n",
    "        else: # Si n1 ou n2 ne sont pas des entiers, on indique que la requête est fausse\n",
    "            return HttpResponse(\"Mauvaise Requête\")\n",
    "        \n",
    "    else: # Si n1 ou n2 ne sont pas donnés, on indique que la requête est fausse\n",
    "        return HttpResponse(\"Mauvaise Requête\")"
   ]
  },
  {
   "attachments": {},
   "cell_type": "markdown",
   "metadata": {},
   "source": [
    "---\n",
    "\n",
    "### Ajout du endpoint URL\n",
    "\n",
    "On ouvre le fichier 'serveur/Testapi/urls.py' et on ajoute la ligne suivante à la liste 'urlpatterns' :"
   ]
  },
  {
   "cell_type": "code",
   "execution_count": null,
   "metadata": {},
   "outputs": [],
   "source": [
    "path('calc/prod', views.produit, name='Produit'),"
   ]
  },
  {
   "attachments": {},
   "cell_type": "markdown",
   "metadata": {},
   "source": [
    "---\n",
    "### Résultat\n",
    "\n",
    "`n1=5 et n2=4`\n",
    "\n",
    "![Image](./Images/08.jpg)\n",
    "\n",
    "`n1 = h & n1 = a`\n",
    "\n",
    "![Image](./Images/09.jpg)\n",
    "\n",
    "`pas de n1 ni n2`\n",
    "\n",
    "![Image](./Images/10.jpg)"
   ]
  },
  {
   "attachments": {},
   "cell_type": "markdown",
   "metadata": {},
   "source": [
    "---\n",
    "---\n",
    "\n",
    "## /img?num=n (où n vaut un chiffre compris en 1 et 9)\n",
    "- Retourne une des 9 images possibles, que vous retournerez depuis le lien suivant : https://www.juleshaag.fr/devIA/devAPI/1.png (pour l’image n°1, par exemple) (sans les télécharger et les intégrer à votre serveur local, car elles peuvent être \n",
    "amenées à changer…). "
   ]
  },
  {
   "attachments": {},
   "cell_type": "markdown",
   "metadata": {},
   "source": [
    "### Ajout de la fonction\n",
    "\n",
    "On ouvre le fichier serveur/Testapi/views.py et on ajoute la fonction suivante :"
   ]
  },
  {
   "cell_type": "code",
   "execution_count": null,
   "metadata": {},
   "outputs": [],
   "source": [
    "def show_img(request):\n",
    "\n",
    "    values = request.GET # Récupération de la requête\n",
    "\n",
    "    if 'num' in values.keys(): # On vérifie que num est donné\n",
    "        if values['num'].isnumeric() and 1 <= int(values['num']) <= 9: # On vérifie que num est un entier compris entre 1 et 9\n",
    "\n",
    "            url = f\"https://www.juleshaag.fr/devIA/devAPI/{values['num']}\" # URL d'accès à l'image\n",
    "\n",
    "            with urllib.request.urlopen(url) as u: # Récupération de l'image\n",
    "                img_data = u.read() \n",
    "\n",
    "            img = Image.open(io.BytesIO(img_data)) # Décodage de l'image\n",
    "\n",
    "            response = HttpResponse(content_type=\"image/png\") # On génère un réponse Http\n",
    "\n",
    "            img.save(response, \"PNG\") # On ajoute l'image à la réponse\n",
    "\n",
    "            return response\n",
    "        \n",
    "        else: # Si num n'est pas un entier compris entre 1 et 9, on indique que la requête est fausse\n",
    "            return HttpResponse(\"Mauvaise Requête\")\n",
    "        \n",
    "    else: # Si num n'est pas donné, on indique que la requête est fausse\n",
    "        return HttpResponse(\"Mauvaise Requête\")"
   ]
  },
  {
   "attachments": {},
   "cell_type": "markdown",
   "metadata": {},
   "source": [
    "---\n",
    "\n",
    "### Ajout du endpoint URL\n",
    "\n",
    "On ouvre le fichier 'serveur/Testapi/urls.py' et on ajoute la ligne suivante à la liste 'urlpatterns' :"
   ]
  },
  {
   "cell_type": "code",
   "execution_count": null,
   "metadata": {},
   "outputs": [],
   "source": [
    "path('img', views.show_img, name='Image'),"
   ]
  },
  {
   "attachments": {},
   "cell_type": "markdown",
   "metadata": {},
   "source": [
    "---\n",
    "### Résultat\n",
    "\n",
    "`num=4`\n",
    "\n",
    "![Image](./Images/11.jpg)\n",
    "\n",
    "`num=a`\n",
    "\n",
    "![Image](./Images/12.jpg)\n",
    "\n",
    "`pas de num`\n",
    "\n",
    "![Image](./Images/13.jpg)"
   ]
  },
  {
   "attachments": {},
   "cell_type": "markdown",
   "metadata": {},
   "source": [
    "---\n",
    "---\n",
    "\n",
    "## /stations_velo?id=n\n",
    "- Retourne l’ensemble des infos sur la station n (sous forme d’un document json) prises dans le document json : https://www.juleshaag.fr/devIA/devAPI/station_information.json qui contient les infos des stations de vélo en libre service de Besançon. (le fichier devra être lu sur la source sans le télécharger pour l’intégrer à votre serveur local, car il peut être amené à changer…)\n"
   ]
  },
  {
   "attachments": {},
   "cell_type": "markdown",
   "metadata": {},
   "source": [
    "### Ajout de la fonction\n",
    "\n",
    "On ouvre le fichier serveur/Testapi/views.py et on ajoute la fonction suivante :"
   ]
  },
  {
   "cell_type": "code",
   "execution_count": null,
   "metadata": {},
   "outputs": [],
   "source": [
    "def info_station(request):\n",
    "\n",
    "    url = 'https://www.juleshaag.fr/devIA/devAPI/station_information.json' # URL du document JSON de référence\n",
    "    response = urllib.request.urlopen(url) # Récupération du JSON\n",
    "    data = json.loads(response.read())\n",
    "\n",
    "    values = request.GET # Récupération de la requête\n",
    "\n",
    "    if 'id' in values.keys(): # On vérifie que 'id' a été donné\n",
    "        if values['id'].isnumeric(): # On vérifie que 'id' est un entier\n",
    "\n",
    "            for station in data['data']['stations']: # On parcours la liste des stations\n",
    "\n",
    "                if station['station_id'] == values['id']: # Si on trouve la station avec le bonne id, on renvoie ses infos\n",
    "                    return JsonResponse(station)\n",
    "            \n",
    "            return HttpResponse(\"Station non-existante\") # Si on n'a rien trouvé, on informe que la station n'existe pas\n",
    "        \n",
    "        else: # id non entier\n",
    "            return HttpResponse(\"Mauvaise Requête\")\n",
    "        \n",
    "    else: # Mauvaise requête\n",
    "        return HttpResponse(\"Mauvaise Requête\")"
   ]
  },
  {
   "attachments": {},
   "cell_type": "markdown",
   "metadata": {},
   "source": [
    "---\n",
    "\n",
    "### Ajout du endpoint URL\n",
    "\n",
    "On ouvre le fichier 'serveur/Testapi/urls.py' et on ajoute la ligne suivante à la liste 'urlpatterns' :"
   ]
  },
  {
   "cell_type": "code",
   "execution_count": null,
   "metadata": {},
   "outputs": [],
   "source": [
    "path('stations_velo', views.info_station, name='Station vélo'),"
   ]
  },
  {
   "attachments": {},
   "cell_type": "markdown",
   "metadata": {},
   "source": [
    "---\n",
    "### Résultat\n",
    "\n",
    "`id=29`\n",
    "\n",
    "![Image](./Images/14.jpg)\n",
    "\n",
    "`id=50`\n",
    "\n",
    "![Image](./Images/15.jpg)"
   ]
  },
  {
   "attachments": {},
   "cell_type": "markdown",
   "metadata": {},
   "source": [
    "---\n",
    "---\n",
    "\n",
    "## /stations_velo?id=n&addr\n",
    "- Retourne l’adresse de la station de vélo n, sous forme d’un texte"
   ]
  },
  {
   "attachments": {},
   "cell_type": "markdown",
   "metadata": {},
   "source": [
    "### Ajout de la fonction\n",
    "\n",
    "On ouvre le fichier serveur/Testapi/views.py et on modifie la fonction 'info_station' :"
   ]
  },
  {
   "cell_type": "code",
   "execution_count": null,
   "metadata": {},
   "outputs": [],
   "source": [
    "def info_station(request):\n",
    "\n",
    "    url = 'https://www.juleshaag.fr/devIA/devAPI/station_information.json' # URL du document JSON de référence\n",
    "    response = urllib.request.urlopen(url) # Récupération du JSON\n",
    "    data = json.loads(response.read())\n",
    "\n",
    "    values = request.GET # Récupération de la requête\n",
    "\n",
    "    if 'id' in values.keys(): # On vérifie que 'id' a été donné\n",
    "        if values['id'].isnumeric(): # On vérifie que 'id' est un entier\n",
    "\n",
    "            for station in data['data']['stations']: # On parcours la liste des stations\n",
    "\n",
    "                if station['station_id'] == values['id']: # On vérifie que la station existe\n",
    "\n",
    "# ---------------------------- MODIF ---------------------------------------------------------------------------\n",
    "                    if 'addr' in values.keys(): # Si addr est donné en paramètre, on renvoie l'adresse en texte\n",
    "                        return HttpResponse(station['address'])\n",
    "                    \n",
    "                    else:\n",
    "                        return JsonResponse(station) # Sinon en renvoie les infos de la station\n",
    "# --------------------------------------------------------------------------------------------------------------\n",
    "            \n",
    "            return HttpResponse(\"Station non-existante\") # Si on n'a rien trouvé, on informe que la station n'existe pas\n",
    "        \n",
    "        else: # id non entier\n",
    "            return HttpResponse(\"Mauvaise Requête\")\n",
    "        \n",
    "    else: # Mauvaise requête\n",
    "        return HttpResponse(\"Mauvaise Requête\")"
   ]
  },
  {
   "attachments": {},
   "cell_type": "markdown",
   "metadata": {},
   "source": [
    "Le endpoint /stations_velo existe déjà, on a juste à traiter la valeur donnée en plus"
   ]
  },
  {
   "attachments": {},
   "cell_type": "markdown",
   "metadata": {},
   "source": [
    "---\n",
    "### Résultat\n",
    "\n",
    "`id=12&addr`\n",
    "\n",
    "![Image](./Images/16.jpg)\n"
   ]
  },
  {
   "attachments": {},
   "cell_type": "markdown",
   "metadata": {},
   "source": [
    "---\n",
    "---\n",
    "\n",
    "## /stations_velo?id=n&cap \n",
    "- Retourne la capacité de la station de vélo n, sous forme d’un nombre entier"
   ]
  },
  {
   "attachments": {},
   "cell_type": "markdown",
   "metadata": {},
   "source": [
    "### Ajout de la fonction\n",
    "\n",
    "On ouvre le fichier serveur/Testapi/views.py et on modifie la fonction 'info_station' :"
   ]
  },
  {
   "cell_type": "code",
   "execution_count": null,
   "metadata": {},
   "outputs": [],
   "source": [
    "def info_station(request):\n",
    "\n",
    "    url = 'https://www.juleshaag.fr/devIA/devAPI/station_information.json' # URL du document JSON de référence\n",
    "    response = urllib.request.urlopen(url) # Récupération du JSON\n",
    "    data = json.loads(response.read())\n",
    "\n",
    "    values = request.GET # Récupération de la requête\n",
    "\n",
    "    if 'id' in values.keys(): # On vérifie que 'id' a été donné\n",
    "        if values['id'].isnumeric(): # On vérifie que 'id' est un entier\n",
    "\n",
    "            for station in data['data']['stations']: # On parcours la liste des stations\n",
    "\n",
    "                if station['station_id'] == values['id']: # On vérifie que la station existe\n",
    "\n",
    "# ---------------------------- MODIF ---------------------------------------------------------------------------\n",
    "                    if 'addr' in values.keys() and 'cap' in values.keys(): # BONUS: Si addr et cap donnés en paramètre, on donne les deux infos\n",
    "                        return HttpResponse(f\"Adresse : {station['address']}</br>Capacité : {station['capacity']}\")\n",
    "\n",
    "                    elif 'addr' in values.keys(): # Si uniquement addr donné, on renvoie l'adresse en texte\n",
    "                        return HttpResponse(station['address'])\n",
    "                    \n",
    "                    elif 'cap' in values.keys(): # Si uniquement cap donné, on renvoie la capacité en texte\n",
    "                        return HttpResponse(station['capacity'])\n",
    "                    \n",
    "                    else: # Sinon on renvoie toutes les infos de la station\n",
    "                        return JsonResponse(station)\n",
    "# --------------------------------------------------------------------------------------------------------------\n",
    "            \n",
    "            return HttpResponse(\"Station non-existante\") # Si on n'a rien trouvé, on informe que la station n'existe pas\n",
    "        \n",
    "        else: # id non entier\n",
    "            return HttpResponse(\"Mauvaise Requête\")\n",
    "        \n",
    "    else: # Mauvaise requête\n",
    "        return HttpResponse(\"Mauvaise Requête\")"
   ]
  },
  {
   "attachments": {},
   "cell_type": "markdown",
   "metadata": {},
   "source": [
    "Le endpoint /stations_velo existe déjà, on a juste à traiter la valeur donnée en plus"
   ]
  },
  {
   "attachments": {},
   "cell_type": "markdown",
   "metadata": {},
   "source": [
    "---\n",
    "### Résultat\n",
    "\n",
    "`id=12&addr&cap`\n",
    "\n",
    "![Image](./Images/17.jpg)\n",
    "\n",
    "`id=15&cap`\n",
    "\n",
    "![Image](./Images/18.jpg)"
   ]
  },
  {
   "attachments": {},
   "cell_type": "markdown",
   "metadata": {},
   "source": [
    "---\n",
    "---\n",
    "\n",
    "## /stations_velo?id=toutes&cap \n",
    "- Retourne la capacité totale de l’ensemble des stations contenues dans le fichier"
   ]
  },
  {
   "attachments": {},
   "cell_type": "markdown",
   "metadata": {},
   "source": [
    "### Ajout de la fonction\n",
    "\n",
    "On ouvre le fichier serveur/Testapi/views.py et on modifie la fonction 'info_station' :"
   ]
  },
  {
   "cell_type": "code",
   "execution_count": null,
   "metadata": {},
   "outputs": [],
   "source": [
    "def info_station(request):\n",
    "\n",
    "    url = 'https://www.juleshaag.fr/devIA/devAPI/station_information.json' # URL du document JSON de référence\n",
    "    response = urllib.request.urlopen(url) # Récupération du JSON\n",
    "    data = json.loads(response.read())\n",
    "\n",
    "    values = request.GET # Récupération de la requête\n",
    "\n",
    "    if 'id' in values.keys(): # On vérifie que 'id' a été donné\n",
    "        if values['id'].isnumeric(): # On vérifie que 'id' est un entier\n",
    "\n",
    "            for station in data['data']['stations']: # On parcours la liste des stations\n",
    "\n",
    "                if station['station_id'] == values['id']: # On vérifie que la station existe\n",
    "\n",
    "                    if 'addr' in values.keys() and 'cap' in values.keys(): # BONUS: Si addr et cap donnés en paramètre, on donne les deux infos\n",
    "                        return HttpResponse(f\"Adresse : {station['address']}</br>Capacité : {station['capacity']}\")\n",
    "\n",
    "                    elif 'addr' in values.keys(): # Si uniquement addr donné, on renvoie l'adresse en texte\n",
    "                        return HttpResponse(station['address'])\n",
    "                    \n",
    "                    elif 'cap' in values.keys(): # Si uniquement cap donné, on renvoie la capacité en texte\n",
    "                        return HttpResponse(station['capacity'])\n",
    "                    \n",
    "                    else: # Sinon on renvoie toutes les infos de la station\n",
    "                        return JsonResponse(station)\n",
    "                    \n",
    "            return HttpResponse(\"Station non-existante\") # Si on n'a rien trouvé, on informe que la station n'existe pas\n",
    "                    \n",
    "# ---------------------------- MODIF ---------------------------------------------------------------------------\n",
    "        elif values['id'] == 'toutes' and 'cap' in values.keys(): # Si 'id=toutes' et 'cap' donnés\n",
    "\n",
    "            capacity = 0\n",
    "\n",
    "            for station in data['data']['stations']: # On parcourt chaque station\n",
    "                capacity += station['capacity'] # On fait la somme des capacités\n",
    "            \n",
    "            return HttpResponse(capacity) # Renvoie de la capacité totale\n",
    "\n",
    "# --------------------------------------------------------------------------------------------------------------\n",
    "            \n",
    "        else: # id non entier\n",
    "            return HttpResponse(\"Mauvaise Requête\")\n",
    "        \n",
    "    else: # Mauvaise requête\n",
    "        return HttpResponse(\"Mauvaise Requête\")"
   ]
  },
  {
   "attachments": {},
   "cell_type": "markdown",
   "metadata": {},
   "source": [
    "Le endpoint /stations_velo existe déjà, on a juste à traiter la valeur donnée en plus"
   ]
  },
  {
   "attachments": {},
   "cell_type": "markdown",
   "metadata": {},
   "source": [
    "---\n",
    "### Résultat\n",
    "\n",
    "`id=toutes&cap`\n",
    "\n",
    "![Image](./Images/19.jpg)"
   ]
  },
  {
   "attachments": {},
   "cell_type": "markdown",
   "metadata": {},
   "source": [
    "---\n",
    "---\n",
    "\n",
    "## /stations_velo/n/addr (c’est un endpoint qui est une variante du précédent) \n",
    "- Retourne l’adresse de la station de vélo n, sous forme d’un texte"
   ]
  },
  {
   "attachments": {},
   "cell_type": "markdown",
   "metadata": {},
   "source": [
    "### Ajout de la fonction\n",
    "\n",
    "On ouvre le fichier serveur/Testapi/views.py et on ajoute la fonction suivante :"
   ]
  },
  {
   "cell_type": "code",
   "execution_count": null,
   "metadata": {},
   "outputs": [],
   "source": [
    "def info_station_option(request, id, option):\n",
    "\n",
    "    url = 'https://www.juleshaag.fr/devIA/devAPI/station_information.json' # URL du document JSON de référence\n",
    "    response = urllib.request.urlopen(url) # Récupération du JSON\n",
    "    data = json.loads(response.read())\n",
    "\n",
    "    for station in data['data']['stations']: # On parcours la liste des stations\n",
    "        if station['station_id'] == str(id): # On vérifie que la station existe\n",
    "\n",
    "            if option == \"addr\": # Si l'option donné est 'addr', on renvoie l'adresse en texte\n",
    "                return HttpResponse(station['address'])\n",
    "            \n",
    "            else: # Sinon mauvaise requête\n",
    "                return HttpResponse('Mauvaise Requête')\n",
    "            \n",
    "    return HttpResponse(\"Station non-existante\")"
   ]
  },
  {
   "attachments": {},
   "cell_type": "markdown",
   "metadata": {},
   "source": [
    "---\n",
    "\n",
    "### Ajout du endpoint URL\n",
    "\n",
    "On ouvre le fichier 'serveur/Testapi/urls.py' et on ajoute la ligne suivante à la liste 'urlpatterns' :"
   ]
  },
  {
   "cell_type": "code",
   "execution_count": null,
   "metadata": {},
   "outputs": [],
   "source": [
    "path('stations_velo/<int:id>/<str:option>', views.info_station_option, name='Station vélo option'),"
   ]
  },
  {
   "attachments": {},
   "cell_type": "markdown",
   "metadata": {},
   "source": [
    "---\n",
    "### Résultat\n",
    "\n",
    "`stations_velo/2/addr`\n",
    "\n",
    "![Image](./Images/20.jpg)\n",
    "\n",
    "`stations_velo/2/salut`\n",
    "\n",
    "![Image](./Images/21.jpg)"
   ]
  },
  {
   "attachments": {},
   "cell_type": "markdown",
   "metadata": {},
   "source": [
    "---\n",
    "---\n",
    "\n",
    "## /stations_velo/n/cap \n",
    "- Retourne la capacité de la station de vélo n, sous forme d’un nombre entier"
   ]
  },
  {
   "attachments": {},
   "cell_type": "markdown",
   "metadata": {},
   "source": [
    "### Ajout de la fonction\n",
    "\n",
    "On ouvre le fichier serveur/Testapi/views.py et on modifie la fonction info_station_option :"
   ]
  },
  {
   "cell_type": "code",
   "execution_count": null,
   "metadata": {},
   "outputs": [],
   "source": [
    "def info_station_option(request, id, option):\n",
    "\n",
    "    url = 'https://www.juleshaag.fr/devIA/devAPI/station_information.json' # URL du document JSON de référence\n",
    "    response = urllib.request.urlopen(url) # Récupération du JSON\n",
    "    data = json.loads(response.read())\n",
    "\n",
    "    for station in data['data']['stations']: # On parcours la liste des stations\n",
    "        if station['station_id'] == str(id): # On vérifie que la station existe\n",
    "\n",
    "            if option == \"addr\": # Si l'option donné est 'addr', on renvoie l'adresse en texte\n",
    "                return HttpResponse(station['address'])\n",
    "            \n",
    "# --------------------------- MODIF --------------------------------------\n",
    "            elif option == \"cap\": # Si l'option donné est 'cap', on renvoie l'adresse en texte\n",
    "                return HttpResponse(station['capacity'])\n",
    "# ------------------------------------------------------------------------\n",
    "            \n",
    "            else: # Sinon mauvaise requête\n",
    "                return HttpResponse('Mauvaise Requête')\n",
    "            \n",
    "    return HttpResponse(\"Station non-existante\")"
   ]
  },
  {
   "attachments": {},
   "cell_type": "markdown",
   "metadata": {},
   "source": [
    "Le endpoint /stations_velo/`<int>`/`<str>` existe déjà, on a juste à traiter l'option"
   ]
  },
  {
   "attachments": {},
   "cell_type": "markdown",
   "metadata": {},
   "source": [
    "---\n",
    "### Résultat\n",
    "\n",
    "`stations_velo/29/cap`\n",
    "\n",
    "![Image](./Images/22.jpg)\n"
   ]
  },
  {
   "attachments": {},
   "cell_type": "markdown",
   "metadata": {},
   "source": [
    "---\n",
    "---\n",
    "\n",
    "## /stations_velo/toutes/cap\n",
    "- Retourne un json contenant, par id, la capacité de chaque station ainsi que la capacité de l’ensemble des stations contenues dans le fichier"
   ]
  },
  {
   "attachments": {},
   "cell_type": "markdown",
   "metadata": {},
   "source": [
    "### Ajout de la fonction\n",
    "\n",
    "On ouvre le fichier serveur/Testapi/views.py et on ajoute la fonction suivante :"
   ]
  },
  {
   "cell_type": "code",
   "execution_count": null,
   "metadata": {},
   "outputs": [],
   "source": [
    "def info_station_somme(request):\n",
    "\n",
    "    url = 'https://www.juleshaag.fr/devIA/devAPI/station_information.json' # URL du document JSON de référence\n",
    "    response = urllib.request.urlopen(url) # Récupération du JSON\n",
    "    data = json.loads(response.read())\n",
    "\n",
    "    capacity_all = 0\n",
    "    result = {}\n",
    "\n",
    "    for station in data['data']['stations']: # On parcourt chaque station\n",
    "        result[station['station_id']] = {\"Capacité\" : station['capacity']} # On crée un clé (id) contenant la capacité\n",
    "        capacity_all += station['capacity'] # On fait la somme des capacité\n",
    "\n",
    "    result[\"Capacité totale\"] = capacity_all # On ajoute la clé contenant la capacité totale\n",
    "        \n",
    "    return JsonResponse(result) # On renvoie le json crée"
   ]
  },
  {
   "attachments": {},
   "cell_type": "markdown",
   "metadata": {},
   "source": [
    "---\n",
    "\n",
    "### Ajout du endpoint URL\n",
    "\n",
    "On ouvre le fichier 'serveur/Testapi/urls.py' et on ajoute la ligne suivante à la liste 'urlpatterns' :"
   ]
  },
  {
   "cell_type": "code",
   "execution_count": null,
   "metadata": {},
   "outputs": [],
   "source": [
    "path('stations_velo/toutes/cap', views.info_station_somme, name='Station vélo somme'),"
   ]
  },
  {
   "attachments": {},
   "cell_type": "markdown",
   "metadata": {},
   "source": [
    "---\n",
    "### Résultat\n",
    "\n",
    "`stations_velo/toutes/cap`\n",
    "\n",
    "![Image](./Images/23.jpg)"
   ]
  },
  {
   "attachments": {},
   "cell_type": "markdown",
   "metadata": {},
   "source": [
    "---\n",
    "---\n",
    "\n",
    "## Bonus : ajout de la doc comme page d’accueil "
   ]
  },
  {
   "attachments": {},
   "cell_type": "markdown",
   "metadata": {},
   "source": [
    "### Ajout de la fonction\n",
    "\n",
    "On ouvre le fichier serveur/Testapi/views.py et on ajoute la fonction suivante :"
   ]
  },
  {
   "cell_type": "code",
   "execution_count": null,
   "metadata": {},
   "outputs": [],
   "source": [
    "def index(request):\n",
    "    return render(request, 'index.html')"
   ]
  },
  {
   "attachments": {},
   "cell_type": "markdown",
   "metadata": {},
   "source": [
    "---\n",
    "\n",
    "### Ajout du endpoint\n",
    "On ouvre le fichier 'serveur/Testapi/urls.py' et on ajoute la ligne suivante à la liste 'urlpatterns' :"
   ]
  },
  {
   "cell_type": "code",
   "execution_count": null,
   "metadata": {},
   "outputs": [],
   "source": [
    "path('', views.index, name='index')"
   ]
  },
  {
   "attachments": {},
   "cell_type": "markdown",
   "metadata": {},
   "source": [
    "---\n",
    "\n",
    "## Résultat\n",
    "\n",
    "![Image](./Images/24.jpg)"
   ]
  }
 ],
 "metadata": {
  "kernelspec": {
   "display_name": "base",
   "language": "python",
   "name": "python3"
  },
  "language_info": {
   "codemirror_mode": {
    "name": "ipython",
    "version": 3
   },
   "file_extension": ".py",
   "mimetype": "text/x-python",
   "name": "python",
   "nbconvert_exporter": "python",
   "pygments_lexer": "ipython3",
   "version": "3.7.9"
  },
  "orig_nbformat": 4
 },
 "nbformat": 4,
 "nbformat_minor": 2
}
